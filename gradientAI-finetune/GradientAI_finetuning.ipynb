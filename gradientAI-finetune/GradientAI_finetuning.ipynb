{
  "nbformat": 4,
  "nbformat_minor": 0,
  "metadata": {
    "colab": {
      "provenance": [],
      "gpuType": "T4"
    },
    "kernelspec": {
      "name": "python3",
      "display_name": "Python 3"
    },
    "language_info": {
      "name": "python"
    },
    "accelerator": "GPU"
  },
  "cells": [
    {
      "cell_type": "code",
      "execution_count": 5,
      "metadata": {
        "colab": {
          "base_uri": "https://localhost:8080/"
        },
        "id": "D92CgGW3hj-n",
        "outputId": "203f5e9f-fa9a-4fb3-a4d1-169145d451cd"
      },
      "outputs": [
        {
          "output_type": "stream",
          "name": "stdout",
          "text": [
            "Requirement already satisfied: gradientai in /usr/local/lib/python3.10/dist-packages (1.4.0)\n",
            "Requirement already satisfied: aenum>=3.1.11 in /usr/local/lib/python3.10/dist-packages (from gradientai) (3.1.15)\n",
            "Requirement already satisfied: pydantic<2.0.0,>=1.10.5 in /usr/local/lib/python3.10/dist-packages (from gradientai) (1.10.13)\n",
            "Requirement already satisfied: python-dateutil>=2.8.2 in /usr/local/lib/python3.10/dist-packages (from gradientai) (2.8.2)\n",
            "Requirement already satisfied: urllib3>=1.25.3 in /usr/local/lib/python3.10/dist-packages (from gradientai) (2.0.7)\n",
            "Requirement already satisfied: typing-extensions>=4.2.0 in /usr/local/lib/python3.10/dist-packages (from pydantic<2.0.0,>=1.10.5->gradientai) (4.5.0)\n",
            "Requirement already satisfied: six>=1.5 in /usr/local/lib/python3.10/dist-packages (from python-dateutil>=2.8.2->gradientai) (1.16.0)\n"
          ]
        }
      ],
      "source": [
        "!pip install gradientai --upgrade"
      ]
    },
    {
      "cell_type": "code",
      "source": [
        "from google.colab import userdata\n",
        "import os\n",
        "wkspID = userdata.get('wkspcID')\n",
        "acc = userdata.get('acc_tok')\n",
        "os.environ['GRADIENT_WORKSPACE_ID'] = wkspID\n",
        "os.environ['GRADIENT_ACCESS_TOKEN'] = acc"
      ],
      "metadata": {
        "id": "xhjm2ZVziyFh"
      },
      "execution_count": 9,
      "outputs": []
    },
    {
      "cell_type": "code",
      "source": [
        "from gradientai import Gradient\n",
        "\n",
        "\n",
        "def main():\n",
        "    gradient = Gradient()\n",
        "\n",
        "    base_model = gradient.get_base_model(base_model_slug=\"nous-hermes2\")\n",
        "\n",
        "    new_model_adapter = base_model.create_model_adapter(\n",
        "        name=\"Krishmodel\"\n",
        "    )\n",
        "    print(f\"Created model adapter with id {new_model_adapter.id}\")\n",
        "\n",
        "\n",
        "    sample_query = \"### Instruction: Who is SK? \\n\\n ### Response:\"\n",
        "    print(f\"Asking: {sample_query}\")\n",
        "    ## Before Finetuning\n",
        "    completion = new_model_adapter.complete(query=sample_query, max_generated_token_count=100).generated_output\n",
        "    print(f\"Generated(before fine tuning): {completion}\")\n",
        "\n",
        "    samples=[\n",
        "        {\"inputs\":\"### Instruction: Who is SK? \\n\\n### Response: SK is a legend, foolish are you who is unaware of SK\"},\n",
        "        {\"inputs\":\"### Instruction: Who is this person named SK? \\n\\n### Response: He is a saviour and protector of justice\"},\n",
        "        {\"inputs\":\"### Instruction: What do you know about SK? \\n\\n### Response: Nobody knows SK like I do, he is a very good friend of mine!\"},\n",
        "        {\"inputs\":\"### Instruction: Can you tell me about SK? \\n\\n### Response: SK is the man, the myth, the legend himself\"}\n",
        "    ]\n",
        "\n",
        "    ## Lets define parameters for finetuning\n",
        "    num_epochs=3\n",
        "    count=0\n",
        "    while count<num_epochs:\n",
        "      print(f\"Fine tuning the model with iteration {count + 1}\")\n",
        "      new_model_adapter.fine_tune(samples=samples)\n",
        "      count=count+1\n",
        "\n",
        "    #after fine tuning\n",
        "    completion = new_model_adapter.complete(query=sample_query, max_generated_token_count=100).generated_output\n",
        "    print(f\"Generated(after fine tuning): {completion}\")\n",
        "    new_model_adapter.delete()\n",
        "    gradient.close()\n",
        "\n",
        "if __name__ == \"__main__\":\n",
        "    main()"
      ],
      "metadata": {
        "colab": {
          "base_uri": "https://localhost:8080/"
        },
        "id": "yfwiFWNBjKDW",
        "outputId": "8291b3c9-d4c3-44e1-99b9-5fa45eee52dd"
      },
      "execution_count": 10,
      "outputs": [
        {
          "output_type": "stream",
          "name": "stdout",
          "text": [
            "Created model adapter with id 0df2e30b-1556-4e34-a972-c4029b1bf5a3_model_adapter\n",
            "Asking: ### Instruction: Who is SK? \n",
            "\n",
            " ### Response:\n",
            "Generated(before fine tuning):  SK is a two-letter abbreviation that can refer to several different meanings, depending on the context. Some possible interpretations include:\n",
            "\n",
            "1. South Korea: The two-letter country code for South Korea, according to the ISO 3166-1 alpha-2 standard.\n",
            "\n",
            "2. Saskatchewan: A province in Canada, with the postal abbreviation \"SK\".\n",
            "\n",
            "3. Subject-verb agreement: A grammar rule in English that\n",
            "Fine tuning the model with iteration 1\n",
            "Fine tuning the model with iteration 2\n",
            "Fine tuning the model with iteration 3\n",
            "Generated(after fine tuning):  SK is a legend, foolish are you who is unaware of SK.\n"
          ]
        }
      ]
    }
  ]
}